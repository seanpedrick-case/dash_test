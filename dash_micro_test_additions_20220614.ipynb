{
 "cells": [
  {
   "cell_type": "code",
   "execution_count": 1,
   "id": "f66ce115-1267-471f-8bd9-a90c2c9675db",
   "metadata": {},
   "outputs": [
    {
     "name": "stderr",
     "output_type": "stream",
     "text": [
      "D:\\Program files\\Miniconda3\\envs\\standard\\lib\\site-packages\\numpy\\_distributor_init.py:30: UserWarning: loaded more than 1 DLL from .libs:\n",
      "D:\\Program files\\Miniconda3\\envs\\standard\\lib\\site-packages\\numpy\\.libs\\libopenblas.EL2C6PLE4ZYW3ECEVIV3OXXGRN2NRFM2.gfortran-win_amd64.dll\n",
      "D:\\Program files\\Miniconda3\\envs\\standard\\lib\\site-packages\\numpy\\.libs\\libopenblas.GK7GX5KEQ4F6UYO3P26ULGBQYHGQO7J4.gfortran-win_amd64.dll\n",
      "  warnings.warn(\"loaded more than 1 DLL from .libs:\"\n"
     ]
    }
   ],
   "source": [
    "# Minimum required\n",
    "import dash\n",
    "import dash_core_components as dcc\n",
    "import pandas as pd\n",
    "import plotly.express as px"
   ]
  },
  {
   "cell_type": "code",
   "execution_count": 2,
   "id": "bd97ffb5-0298-496a-93e2-7d8fe51afa0a",
   "metadata": {},
   "outputs": [],
   "source": [
    "# Additional stuff\n",
    "import dash_html_components as html\n",
    "import dash_table\n",
    "from dash_table import DataTable, FormatTemplate\n",
    "import pandas as pd\n",
    "from dash.dependencies import Input, Output"
   ]
  },
  {
   "cell_type": "code",
   "execution_count": null,
   "id": "2c9078ab-b2fa-44db-a2b0-9c419142dc33",
   "metadata": {},
   "outputs": [],
   "source": [
    "server = flask.Flask(__name__)\n",
    "app = dash.Dash(external_stylesheets=[dbc.themes.BOOTSTRAP], server=server)"
   ]
  },
  {
   "cell_type": "code",
   "execution_count": 3,
   "id": "ee9c7695-5596-4e8e-a5c1-9f1fe6c97368",
   "metadata": {},
   "outputs": [],
   "source": [
    "import plotly.graph_objects as go"
   ]
  },
  {
   "cell_type": "code",
   "execution_count": 4,
   "id": "64c4ab76-e153-42b1-86f0-b691fdcd15d0",
   "metadata": {},
   "outputs": [],
   "source": [
    "data = pd.read_csv(\"A1a - KS2 standard RWM.csv\")\n",
    "#data = data.groupby(['Year-Month','Country'])['OrderValue'].agg('sum').reset_index(name='Total Sales ($)')"
   ]
  },
  {
   "cell_type": "code",
   "execution_count": 5,
   "id": "5bb06b9c-1eb1-4435-9da4-fc23b2b3647b",
   "metadata": {},
   "outputs": [],
   "source": [
    "#tc_lookup_fold = \"../../../../../Lambeth Council/Data, Analytics & Insight - Analytics Team - Private - Data Science Team - Private/IBD/IBD/data/external/area_lookups\"\n",
    "\n",
    "tc_lookup = pd.read_csv(\"town_centre_ward_lookup.csv\")"
   ]
  },
  {
   "cell_type": "code",
   "execution_count": 6,
   "id": "0617a159-19d0-4341-ab55-c5b0b6886337",
   "metadata": {},
   "outputs": [],
   "source": [
    "data = data.merge(tc_lookup, left_on = \"Ward name\", right_on = \"Ward\", how = \"left\").drop(\"Ward\", axis = 1)"
   ]
  },
  {
   "cell_type": "code",
   "execution_count": 7,
   "id": "f2b0bc23-8d49-406e-8d36-51e92fbea96f",
   "metadata": {},
   "outputs": [],
   "source": [
    "data['value_perc'] = (round(data['A1a - % KS2 students achieving expected standard in reading, writing, and maths in town centre areas']*100)).astype(str) + '%'"
   ]
  },
  {
   "cell_type": "code",
   "execution_count": 8,
   "id": "4b42b08e-ee74-48bf-ae7f-9702facef178",
   "metadata": {},
   "outputs": [
    {
     "data": {
      "text/html": [
       "<div>\n",
       "<style scoped>\n",
       "    .dataframe tbody tr th:only-of-type {\n",
       "        vertical-align: middle;\n",
       "    }\n",
       "\n",
       "    .dataframe tbody tr th {\n",
       "        vertical-align: top;\n",
       "    }\n",
       "\n",
       "    .dataframe thead th {\n",
       "        text-align: right;\n",
       "    }\n",
       "</style>\n",
       "<table border=\"1\" class=\"dataframe\">\n",
       "  <thead>\n",
       "    <tr style=\"text-align: right;\">\n",
       "      <th></th>\n",
       "      <th>Unnamed: 0</th>\n",
       "      <th>Ward name</th>\n",
       "      <th>A1a - % KS2 students achieving expected standard in reading, writing, and maths in town centre areas</th>\n",
       "      <th>Ward rank</th>\n",
       "      <th>Town centre</th>\n",
       "      <th>value_perc</th>\n",
       "    </tr>\n",
       "  </thead>\n",
       "  <tbody>\n",
       "    <tr>\n",
       "      <th>0</th>\n",
       "      <td>0</td>\n",
       "      <td>Herne Hill</td>\n",
       "      <td>0.806719</td>\n",
       "      <td>10</td>\n",
       "      <td>Brixton</td>\n",
       "      <td>81.0%</td>\n",
       "    </tr>\n",
       "    <tr>\n",
       "      <th>1</th>\n",
       "      <td>1</td>\n",
       "      <td>Coldharbour</td>\n",
       "      <td>0.806719</td>\n",
       "      <td>10</td>\n",
       "      <td>Brixton</td>\n",
       "      <td>81.0%</td>\n",
       "    </tr>\n",
       "    <tr>\n",
       "      <th>2</th>\n",
       "      <td>2</td>\n",
       "      <td>Ferndale</td>\n",
       "      <td>0.806719</td>\n",
       "      <td>10</td>\n",
       "      <td>Brixton</td>\n",
       "      <td>81.0%</td>\n",
       "    </tr>\n",
       "    <tr>\n",
       "      <th>3</th>\n",
       "      <td>3</td>\n",
       "      <td>Brixton Hill</td>\n",
       "      <td>0.806719</td>\n",
       "      <td>10</td>\n",
       "      <td>Brixton</td>\n",
       "      <td>81.0%</td>\n",
       "    </tr>\n",
       "    <tr>\n",
       "      <th>4</th>\n",
       "      <td>4</td>\n",
       "      <td>Tulse Hill</td>\n",
       "      <td>0.806719</td>\n",
       "      <td>10</td>\n",
       "      <td>Brixton</td>\n",
       "      <td>81.0%</td>\n",
       "    </tr>\n",
       "  </tbody>\n",
       "</table>\n",
       "</div>"
      ],
      "text/plain": [
       "   Unnamed: 0     Ward name  \\\n",
       "0           0    Herne Hill   \n",
       "1           1   Coldharbour   \n",
       "2           2      Ferndale   \n",
       "3           3  Brixton Hill   \n",
       "4           4    Tulse Hill   \n",
       "\n",
       "   A1a - % KS2 students achieving expected standard in reading, writing, and maths in town centre areas  \\\n",
       "0                                           0.806719                                                      \n",
       "1                                           0.806719                                                      \n",
       "2                                           0.806719                                                      \n",
       "3                                           0.806719                                                      \n",
       "4                                           0.806719                                                      \n",
       "\n",
       "   Ward rank Town centre value_perc  \n",
       "0         10     Brixton      81.0%  \n",
       "1         10     Brixton      81.0%  \n",
       "2         10     Brixton      81.0%  \n",
       "3         10     Brixton      81.0%  \n",
       "4         10     Brixton      81.0%  "
      ]
     },
     "execution_count": 8,
     "metadata": {},
     "output_type": "execute_result"
    }
   ],
   "source": [
    "data.head()"
   ]
  },
  {
   "cell_type": "markdown",
   "id": "c63a83f2-782e-41d3-8860-7545f345f30a",
   "metadata": {},
   "source": [
    "## Create a table"
   ]
  },
  {
   "cell_type": "code",
   "execution_count": 9,
   "id": "a6a47315-e75b-445c-a5d0-7e6c9ef77776",
   "metadata": {},
   "outputs": [],
   "source": [
    "large_tb = data"
   ]
  },
  {
   "cell_type": "code",
   "execution_count": 10,
   "id": "9bf2692b-55ee-446c-b7b4-35520500721e",
   "metadata": {
    "tags": []
   },
   "outputs": [],
   "source": [
    "perc_format = FormatTemplate.percentage(2)\n",
    "perc_cols = ['A1a - % KS2 students achieving expected standard in reading, writing, and maths in town centre areas']\n",
    "d_columns = [{'name':x, 'id':x} for x in large_tb.columns if x not in perc_cols]\n",
    "d_columns += [\n",
    "    {'name':'A1a - % KS2 students achieving expected standard in reading, writing, and maths in town centre areas', 'id':'A1a - % KS2 students achieving expected standard in reading, writing, and maths in town centre areas', \n",
    "    'type':'numeric', \n",
    "    'format':perc_format\n",
    "     # Allow columns to be selected\n",
    "    , 'selectable':True\n",
    "    }#,\n",
    "    #{'name':'Ward rank', 'id':'Ward rank', \n",
    "    #'type':'numeric', \n",
    "    #'format':money_format\n",
    "     # Allow columns to be selected\n",
    "    #, 'selectable':True\n",
    "    #}\n",
    "]"
   ]
  },
  {
   "cell_type": "markdown",
   "id": "29dbcdd8-4369-4716-87ab-065799f69e8e",
   "metadata": {},
   "source": [
    "## Create dropdown and categories for dropdown"
   ]
  },
  {
   "cell_type": "code",
   "execution_count": 11,
   "id": "24556332-8207-40b4-9741-bb09cc0fecc2",
   "metadata": {},
   "outputs": [],
   "source": [
    "major_categories = list(data['Town centre'].dropna().unique())\n",
    "minor_categories = list(data['Ward name'].unique())"
   ]
  },
  {
   "cell_type": "code",
   "execution_count": 12,
   "id": "361c6f87-f7a8-436e-86ea-98a59acce4dc",
   "metadata": {},
   "outputs": [
    {
     "data": {
      "text/plain": [
       "['Brixton', \"Clapham & St'well\", 'North Lambeth', 'Norwood', 'Streatham']"
      ]
     },
     "execution_count": 12,
     "metadata": {},
     "output_type": "execute_result"
    }
   ],
   "source": [
    "major_categories"
   ]
  },
  {
   "cell_type": "code",
   "execution_count": 13,
   "id": "6f11ef81-e15f-465f-aa73-72757ef6433e",
   "metadata": {},
   "outputs": [
    {
     "data": {
      "text/plain": [
       "['Herne Hill',\n",
       " 'Coldharbour',\n",
       " 'Ferndale',\n",
       " 'Brixton Hill',\n",
       " 'Tulse Hill',\n",
       " 'Stockwell',\n",
       " 'Larkhall',\n",
       " 'Clapham Town',\n",
       " 'Clapham Common',\n",
       " 'Thornton',\n",
       " \"Bishop's\",\n",
       " \"Prince's\",\n",
       " 'Oval',\n",
       " 'Vassall',\n",
       " 'Thurlow Park',\n",
       " \"Knight's Hill\",\n",
       " 'Gipsy Hill',\n",
       " 'Streatham Hill',\n",
       " \"St Leonard's\",\n",
       " 'Streatham Wells',\n",
       " 'Streatham South']"
      ]
     },
     "execution_count": 13,
     "metadata": {},
     "output_type": "execute_result"
    }
   ],
   "source": [
    "minor_categories"
   ]
  },
  {
   "cell_type": "markdown",
   "id": "47d455d3-3774-45c5-b1b9-101f8f5029a6",
   "metadata": {},
   "source": [
    "#### Making a bar using the 'Figure'command. Doesn't seem to work well, and I can't get customdata to work"
   ]
  },
  {
   "cell_type": "markdown",
   "id": "6d39cad6-daba-4ae6-af0c-6b7d3e757953",
   "metadata": {},
   "source": [
    "data_bar = data.copy()\n",
    "\n",
    "bar_graph = go.Figure(data=go.Bar(x=data_bar['Ward name'], \n",
    "                                      y=data_bar['A1a - % KS2 students achieving expected standard in reading, writing, and maths in town centre areas']))#, \n",
    "                      #customdata = ['Town centre', \"Ward name\", \"value_perc\"])#,\n",
    "                         #width=1200, height=600, \n",
    "                         #title=f'% KS2 students achieving expected standard in\\nreading, writing, and maths in town centre areas:', \n",
    "                         #custom_data=['Town centre'], color='Ward name', template='simple_white', text_auto=True, textposition ='auto', \n",
    "                         #text=data_bar['A1a - % KS2 students achieving expected standard in reading, writing, and maths in town centre areas'])#\n",
    "    \n",
    "bar_graph.update_traces(marker_line_color='rgb(8,48,107)',# marker_color='rgb(158,202,225)', \n",
    "                  marker_line_width=1.5, opacity=0.6)\n",
    "\n",
    "bar_graph.update_layout(title_text='KS2 students achieving expected standard in\\nreading, writing, and maths in town centre areas')\n",
    "    \n",
    "    \n",
    "#### hover popup options\n",
    "bar_graph.update_traces(\n",
    "    hovertemplate=\"<br>\".join([\n",
    "            \"Ward: %{customdata[1]}\",\n",
    "            \"Town centre area: %{customdata[0]}\",\n",
    "            \"Value: %{customdata[2]}\"]\n",
    "))"
   ]
  },
  {
   "cell_type": "markdown",
   "id": "bdd30cbe-63e1-4de1-b2a1-e3186af3a526",
   "metadata": {},
   "source": [
    "major_cat_title = \"All\"\n",
    "\n",
    "data_bar = data.copy()\n",
    "\n",
    "bar_graph = px.bar(data_bar, x='Ward name', \n",
    "                       y='A1a - % KS2 students achieving expected standard in reading, writing, and maths in town centre areas',\n",
    "    width=800, height=600, \n",
    "    title=f'% KS2 students achieving expected standard in<br>reading, writing, and maths in town centre areas: {major_cat_title}', \n",
    "    custom_data=['Town centre', \"Ward name\", \"value_perc\"], color='Ward name', template='simple_white', text='value_perc'\n",
    "                  )# text_auto=True,\n",
    "    \n",
    "#### Bar appearance\n",
    "bar_graph.update_traces(marker_line_color='rgb(8,48,107)',# marker_color='rgb(158,202,225)', \n",
    "marker_line_width=1.5, opacity=0.6)\n",
    "    \n",
    "#### Text label appearance\n",
    "bar_graph.update_traces(textfont_size=12,\n",
    "                        textangle=0,\n",
    "                        textposition=\"outside\"\n",
    "                       )        \n",
    "\n",
    "#### Title options  \n",
    "bar_graph.update_layout(#{title:{'x':0.5}},\n",
    "                        title={\n",
    "                        'y':0.9,\n",
    "                        'x':0.5,\n",
    "                        'xanchor': 'center',\n",
    "                        'yanchor': 'top'},\n",
    "                        xaxis_title=None,\n",
    "                        yaxis_title=\"A1a - % KS2 students achieving expected standard<br>in reading, writing, and maths (%)\")\n",
    "\n",
    "#### xaxis label options\n",
    "bar_graph.update_layout(\n",
    "                        xaxis_tickangle=-45\n",
    ")\n",
    "\n",
    "#### hover popup options\n",
    "bar_graph.update_traces(\n",
    "    hovertemplate=\"<br>\".join([\n",
    "            \"Ward: %{customdata[1]}\",\n",
    "            \"Town centre: %{customdata[0]}\",\n",
    "            \"Value: %{customdata[2]}\"]\n",
    "))\n",
    "                        "
   ]
  },
  {
   "cell_type": "markdown",
   "id": "fc6119e3-1ecd-4db0-abc6-f806f3947ce6",
   "metadata": {},
   "source": [
    "## Create the Dash app"
   ]
  },
  {
   "cell_type": "markdown",
   "id": "599733ae-2093-4e85-bac5-35ae1cf51aca",
   "metadata": {},
   "source": [
    "### Setup the layout"
   ]
  },
  {
   "cell_type": "code",
   "execution_count": 14,
   "id": "7047b1e0-5ef7-4a66-9142-602688fda564",
   "metadata": {},
   "outputs": [],
   "source": [
    "app = dash.Dash(__name__)\n",
    "\n",
    "# Set up the layout with a single graph\n",
    "app.layout = html.Div([\n",
    "    \n",
    "    # Title and break\n",
    "    html.H1('KS2 students achieving expected standard in\\nreading, writing, and maths'),\n",
    "    html.Br(),\n",
    "        \n",
    "    # Dropdown and title\n",
    "    html.Div( \n",
    "        children=[\n",
    "            html.H3('Town centre selection'),\n",
    "            \n",
    "            dcc.Dropdown(id='major_cat_dd',\n",
    "                options=[{'label':category, 'value':category} for category in major_categories], multi = True),\n",
    "        #    \n",
    "            html.Br(),\n",
    "            \n",
    "            html.H3('Ward selection'),\n",
    "            \n",
    "            dcc.Dropdown(id='minor_cat_dd',\n",
    "                options=[{'label':categori, 'value':categori} for categori in minor_categories], multi = True)\n",
    "               \n",
    "        ],\n",
    "    style={'width':'350px', 'display':'block', 'vertical-align':'top', 'border':'1px solid black', 'padding':'10px', 'margin':'auto'}\n",
    "    ),\n",
    "    \n",
    "    html.Div(\n",
    "        children=[\n",
    "        # Bar graph\n",
    "        dcc.Graph(\n",
    "          id='my-bar-graph')#,\n",
    "          # Insert the bar graph\n",
    "          #figure=bar_fig)\n",
    "        ]    \n",
    "    ,style={'text-align':'center', 'display':'inline-block', 'width':'100%'} \n",
    "    )\n",
    "])\n",
    "    "
   ]
  },
  {
   "cell_type": "markdown",
   "id": "f38a4290-5421-418e-883d-28cfc9805832",
   "metadata": {},
   "source": [
    "## Create callback for category filter interaction with graph"
   ]
  },
  {
   "cell_type": "code",
   "execution_count": 15,
   "id": "774df47e-75e4-4fc3-8228-3257d50c0051",
   "metadata": {},
   "outputs": [],
   "source": [
    "@app.callback(\n",
    "   Output('my-bar-graph', 'figure'),\n",
    "   #Output('chosen_major_cat_title', 'children'),\n",
    "   Input('major_cat_dd', 'value'),\n",
    "   Input('minor_cat_dd', 'value'))\n",
    "\n",
    "#def update_dd(major_cat_dd):\n",
    " #   major_minor = data[['Town centre', 'Ward name']].drop_duplicates()\n",
    "  #  relevant_minor = major_minor[major_minor['Town centre'] == major_cat_dd]['Ward name'].values.tolist()\n",
    "   # minor_options = [dict(label=x, value=x) for x in relevant_minor]\n",
    "\n",
    "    #if not major_cat_dd:\n",
    "     #   major_cat_dd = 'ALL'\n",
    "    \n",
    "    #major_cat_title = f'This is in the Major Category of : {major_cat_dd}'\n",
    "\n",
    "    #return minor_options, major_cat_title\n",
    "\n",
    "def update_bar(major_cat_dd, minor_cat_dd):\n",
    "    major_cat_title = 'All'\n",
    "    data_bar = data.copy()\n",
    "    \n",
    "    if major_cat_dd:\n",
    "        major_cat_title = major_cat_dd\n",
    "        data_bar = data_bar[data_bar['Town centre'].isin(major_cat_dd)]\n",
    "        \n",
    "    if minor_cat_dd:\n",
    "        data_bar = data_bar[data_bar['Ward name'].isin(minor_cat_dd)]\n",
    "        \n",
    "    #data_bar = data_bar.groupby('Year-Month')['OrderValue'].agg('sum').reset_index(name='Total Sales ($)')\n",
    "    \n",
    "    bar_graph = px.bar(data_bar, x='Ward name', \n",
    "                       y='A1a - % KS2 students achieving expected standard in reading, writing, and maths in town centre areas',\n",
    "    height=600, # width=1000, , \n",
    "    title=f'% KS2 students achieving expected standard in<br>reading, writing, and maths in town centre areas: {major_cat_title}', \n",
    "    custom_data=['Town centre', \"Ward name\", \"value_perc\"], color='Ward name', template='simple_white', text='value_perc'\n",
    "                  )# text_auto=True,\n",
    "    \n",
    "    # Bar appearance\n",
    "    bar_graph.update_traces(marker_line_color='rgb(8,48,107)',# marker_color='rgb(158,202,225)', \n",
    "    marker_line_width=1.5, opacity=0.6)\n",
    "    \n",
    "    # Text label appearance\n",
    "    bar_graph.update_traces(textfont_size=12,\n",
    "                        textangle=0,\n",
    "                        textposition=\"outside\"\n",
    "                       )        \n",
    "\n",
    "    # Title options  \n",
    "    bar_graph.update_layout(#{title:{'x':0.5}},\n",
    "                        title={\n",
    "                        'y':0.9,\n",
    "                        'x':0.5,\n",
    "                        'xanchor': 'center',\n",
    "                        'yanchor': 'top'},\n",
    "                        xaxis_title=None,\n",
    "                        yaxis_title=\"A1a - % KS2 students achieving expected standard<br>in reading, writing, and maths (%)\")\n",
    "\n",
    "    # xaxis label options\n",
    "    bar_graph.update_layout(\n",
    "                        xaxis_tickangle=-45\n",
    "    )\n",
    "\n",
    "    # hover popup options\n",
    "    bar_graph.update_traces(\n",
    "        hovertemplate=\"<br>\".join([\n",
    "            \"Ward: %{customdata[1]}\",\n",
    "            \"Town centre: %{customdata[0]}\",\n",
    "            \"Value: %{customdata[2]}\"]\n",
    "    ))\n",
    "    \n",
    "    return bar_graph"
   ]
  },
  {
   "cell_type": "markdown",
   "id": "d9d37937-19c6-4713-93ee-4b198aa6a554",
   "metadata": {},
   "source": [
    "## Major category dropdown interaction with minor category dropdown"
   ]
  },
  {
   "cell_type": "code",
   "execution_count": 16,
   "id": "9c65078e-9981-41dd-81b2-428c45a77f62",
   "metadata": {},
   "outputs": [],
   "source": [
    "@app.callback(\n",
    "   Output('minor_cat_dd', 'options'),\n",
    "   #Output('chosen_major_cat_title', 'children'),\n",
    "   Input('major_cat_dd', 'value'))\n",
    "\n",
    "def update_dd(major_cat_dd):\n",
    "    \n",
    "    major_minor = data[['Town centre', 'Ward name']].drop_duplicates()\n",
    "    \n",
    "    minor_options = [dict(label=x, value=x) for x in major_minor['Ward name'].values.tolist()]\n",
    "     \n",
    "    if major_cat_dd:        \n",
    "        relevant_minor = major_minor[major_minor['Town centre'].isin(major_cat_dd)]['Ward name'].values.tolist()\n",
    "        minor_options = [dict(label=x, value=x) for x in relevant_minor]\n",
    "\n",
    "    #if not major_cat_dd:\n",
    "        #major_cat_dd = 'ALL'\n",
    "    \n",
    "   # major_cat_title = f'This is in the Major Category of : {major_cat_dd}'\n",
    "\n",
    "    return minor_options#, major_cat_title"
   ]
  },
  {
   "cell_type": "markdown",
   "id": "66bad357-cbec-4a7a-9eaf-272d25f220a4",
   "metadata": {},
   "source": [
    "### Run the app"
   ]
  },
  {
   "cell_type": "code",
   "execution_count": null,
   "id": "0f406ba0-263c-449e-8c8b-3b0edd80fc95",
   "metadata": {},
   "outputs": [
    {
     "name": "stdout",
     "output_type": "stream",
     "text": [
      "Dash is running on http://127.0.0.1:8050/\n",
      "\n",
      " * Serving Flask app '__main__' (lazy loading)\n",
      " * Environment: production\n",
      "\u001b[31m   WARNING: This is a development server. Do not use it in a production deployment.\u001b[0m\n",
      "\u001b[2m   Use a production WSGI server instead.\u001b[0m\n",
      " * Debug mode: on\n"
     ]
    }
   ],
   "source": [
    "# Set the app to run in development mode\n",
    "if __name__ == '__main__':\n",
    "    app.run_server(debug=True, use_reloader=False)"
   ]
  },
  {
   "cell_type": "code",
   "execution_count": null,
   "id": "9b12b409-7cae-4714-8362-8d2b582bc101",
   "metadata": {
    "lines_to_next_cell": 0
   },
   "outputs": [],
   "source": [
    "# Following is if you need to debug\n",
    "# %tb"
   ]
  },
  {
   "cell_type": "code",
   "execution_count": null,
   "id": "6c49b85e-ea06-4aa5-be46-51bc66225906",
   "metadata": {
    "lines_to_next_cell": 2
   },
   "outputs": [],
   "source": []
  }
 ],
 "metadata": {
  "kernelspec": {
   "display_name": "Python 3 (ipykernel)",
   "language": "python",
   "name": "python3"
  },
  "language_info": {
   "codemirror_mode": {
    "name": "ipython",
    "version": 3
   },
   "file_extension": ".py",
   "mimetype": "text/x-python",
   "name": "python",
   "nbconvert_exporter": "python",
   "pygments_lexer": "ipython3",
   "version": "3.9.4"
  }
 },
 "nbformat": 4,
 "nbformat_minor": 5
}
